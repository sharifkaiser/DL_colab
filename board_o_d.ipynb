{
  "nbformat": 4,
  "nbformat_minor": 0,
  "metadata": {
    "colab": {
      "name": "board_o_d",
      "provenance": [],
      "collapsed_sections": [],
      "toc_visible": true,
      "authorship_tag": "ABX9TyPrY0bjC9mGvMNctptThe2U",
      "include_colab_link": true
    },
    "kernelspec": {
      "name": "python3",
      "display_name": "Python 3"
    }
  },
  "cells": [
    {
      "cell_type": "markdown",
      "metadata": {
        "id": "view-in-github",
        "colab_type": "text"
      },
      "source": [
        "<a href=\"https://colab.research.google.com/github/sharifkaiser/DL_colab/blob/master/board_o_d.ipynb\" target=\"_parent\"><img src=\"https://colab.research.google.com/assets/colab-badge.svg\" alt=\"Open In Colab\"/></a>"
      ]
    },
    {
      "cell_type": "code",
      "metadata": {
        "id": "kVO2htKyqoZm",
        "colab": {
          "base_uri": "https://localhost:8080/",
          "height": 1000
        },
        "outputId": "04eb0a34-6f70-4248-b934-a85b41f27a14"
      },
      "source": [
        "!pip install tensorflow-object-detection-api"
      ],
      "execution_count": null,
      "outputs": [
        {
          "output_type": "stream",
          "text": [
            "Collecting tensorflow-object-detection-api\n",
            "\u001b[?25l  Downloading https://files.pythonhosted.org/packages/4e/11/7f6d3c5c4b603cc40b2813059779afb641bd5eb68045c62ca520bfce0359/tensorflow_object_detection_api-0.1.1.tar.gz (577kB)\n",
            "\r\u001b[K     |▋                               | 10kB 17.3MB/s eta 0:00:01\r\u001b[K     |█▏                              | 20kB 3.1MB/s eta 0:00:01\r\u001b[K     |█▊                              | 30kB 4.5MB/s eta 0:00:01\r\u001b[K     |██▎                             | 40kB 3.0MB/s eta 0:00:01\r\u001b[K     |██▉                             | 51kB 3.6MB/s eta 0:00:01\r\u001b[K     |███▍                            | 61kB 4.3MB/s eta 0:00:01\r\u001b[K     |████                            | 71kB 4.9MB/s eta 0:00:01\r\u001b[K     |████▌                           | 81kB 5.6MB/s eta 0:00:01\r\u001b[K     |█████                           | 92kB 6.2MB/s eta 0:00:01\r\u001b[K     |█████▊                          | 102kB 4.8MB/s eta 0:00:01\r\u001b[K     |██████▎                         | 112kB 4.8MB/s eta 0:00:01\r\u001b[K     |██████▉                         | 122kB 4.8MB/s eta 0:00:01\r\u001b[K     |███████▍                        | 133kB 4.8MB/s eta 0:00:01\r\u001b[K     |████████                        | 143kB 4.8MB/s eta 0:00:01\r\u001b[K     |████████▌                       | 153kB 4.8MB/s eta 0:00:01\r\u001b[K     |█████████                       | 163kB 4.8MB/s eta 0:00:01\r\u001b[K     |█████████▋                      | 174kB 4.8MB/s eta 0:00:01\r\u001b[K     |██████████▏                     | 184kB 4.8MB/s eta 0:00:01\r\u001b[K     |██████████▉                     | 194kB 4.8MB/s eta 0:00:01\r\u001b[K     |███████████▍                    | 204kB 4.8MB/s eta 0:00:01\r\u001b[K     |████████████                    | 215kB 4.8MB/s eta 0:00:01\r\u001b[K     |████████████▌                   | 225kB 4.8MB/s eta 0:00:01\r\u001b[K     |█████████████                   | 235kB 4.8MB/s eta 0:00:01\r\u001b[K     |█████████████▋                  | 245kB 4.8MB/s eta 0:00:01\r\u001b[K     |██████████████▏                 | 256kB 4.8MB/s eta 0:00:01\r\u001b[K     |██████████████▊                 | 266kB 4.8MB/s eta 0:00:01\r\u001b[K     |███████████████▎                | 276kB 4.8MB/s eta 0:00:01\r\u001b[K     |████████████████                | 286kB 4.8MB/s eta 0:00:01\r\u001b[K     |████████████████▌               | 296kB 4.8MB/s eta 0:00:01\r\u001b[K     |█████████████████               | 307kB 4.8MB/s eta 0:00:01\r\u001b[K     |█████████████████▋              | 317kB 4.8MB/s eta 0:00:01\r\u001b[K     |██████████████████▏             | 327kB 4.8MB/s eta 0:00:01\r\u001b[K     |██████████████████▊             | 337kB 4.8MB/s eta 0:00:01\r\u001b[K     |███████████████████▎            | 348kB 4.8MB/s eta 0:00:01\r\u001b[K     |███████████████████▉            | 358kB 4.8MB/s eta 0:00:01\r\u001b[K     |████████████████████▍           | 368kB 4.8MB/s eta 0:00:01\r\u001b[K     |█████████████████████           | 378kB 4.8MB/s eta 0:00:01\r\u001b[K     |█████████████████████▋          | 389kB 4.8MB/s eta 0:00:01\r\u001b[K     |██████████████████████▏         | 399kB 4.8MB/s eta 0:00:01\r\u001b[K     |██████████████████████▊         | 409kB 4.8MB/s eta 0:00:01\r\u001b[K     |███████████████████████▎        | 419kB 4.8MB/s eta 0:00:01\r\u001b[K     |███████████████████████▉        | 430kB 4.8MB/s eta 0:00:01\r\u001b[K     |████████████████████████▍       | 440kB 4.8MB/s eta 0:00:01\r\u001b[K     |█████████████████████████       | 450kB 4.8MB/s eta 0:00:01\r\u001b[K     |█████████████████████████▌      | 460kB 4.8MB/s eta 0:00:01\r\u001b[K     |██████████████████████████      | 471kB 4.8MB/s eta 0:00:01\r\u001b[K     |██████████████████████████▊     | 481kB 4.8MB/s eta 0:00:01\r\u001b[K     |███████████████████████████▎    | 491kB 4.8MB/s eta 0:00:01\r\u001b[K     |███████████████████████████▉    | 501kB 4.8MB/s eta 0:00:01\r\u001b[K     |████████████████████████████▍   | 512kB 4.8MB/s eta 0:00:01\r\u001b[K     |█████████████████████████████   | 522kB 4.8MB/s eta 0:00:01\r\u001b[K     |█████████████████████████████▌  | 532kB 4.8MB/s eta 0:00:01\r\u001b[K     |██████████████████████████████  | 542kB 4.8MB/s eta 0:00:01\r\u001b[K     |██████████████████████████████▋ | 552kB 4.8MB/s eta 0:00:01\r\u001b[K     |███████████████████████████████▏| 563kB 4.8MB/s eta 0:00:01\r\u001b[K     |███████████████████████████████▉| 573kB 4.8MB/s eta 0:00:01\r\u001b[K     |████████████████████████████████| 583kB 4.8MB/s \n",
            "\u001b[?25hRequirement already satisfied: Pillow>=1.0 in /usr/local/lib/python3.6/dist-packages (from tensorflow-object-detection-api) (6.2.2)\n",
            "Requirement already satisfied: Matplotlib>=2.1 in /usr/local/lib/python3.6/dist-packages (from tensorflow-object-detection-api) (3.1.3)\n",
            "Requirement already satisfied: Cython>=0.28.1 in /usr/local/lib/python3.6/dist-packages (from tensorflow-object-detection-api) (0.29.15)\n",
            "Requirement already satisfied: Protobuf in /usr/local/lib/python3.6/dist-packages (from tensorflow-object-detection-api) (3.10.0)\n",
            "Requirement already satisfied: lxml in /usr/local/lib/python3.6/dist-packages (from tensorflow-object-detection-api) (4.2.6)\n",
            "Requirement already satisfied: jupyter in /usr/local/lib/python3.6/dist-packages (from tensorflow-object-detection-api) (1.0.0)\n",
            "Requirement already satisfied: tensorflow in /usr/local/lib/python3.6/dist-packages (from tensorflow-object-detection-api) (1.15.0)\n",
            "Requirement already satisfied: contextlib2 in /usr/local/lib/python3.6/dist-packages (from tensorflow-object-detection-api) (0.5.5)\n",
            "Requirement already satisfied: wheel in /usr/local/lib/python3.6/dist-packages (from tensorflow-object-detection-api) (0.34.2)\n",
            "Collecting twine\n",
            "  Downloading https://files.pythonhosted.org/packages/99/94/08b3b933c611416dad89c8abcc94a6d6c29e8609987235b6e7f10b42de82/twine-3.1.1-py3-none-any.whl\n",
            "Requirement already satisfied: pyparsing!=2.0.4,!=2.1.2,!=2.1.6,>=2.0.1 in /usr/local/lib/python3.6/dist-packages (from Matplotlib>=2.1->tensorflow-object-detection-api) (2.4.6)\n",
            "Requirement already satisfied: kiwisolver>=1.0.1 in /usr/local/lib/python3.6/dist-packages (from Matplotlib>=2.1->tensorflow-object-detection-api) (1.1.0)\n",
            "Requirement already satisfied: cycler>=0.10 in /usr/local/lib/python3.6/dist-packages (from Matplotlib>=2.1->tensorflow-object-detection-api) (0.10.0)\n",
            "Requirement already satisfied: python-dateutil>=2.1 in /usr/local/lib/python3.6/dist-packages (from Matplotlib>=2.1->tensorflow-object-detection-api) (2.6.1)\n",
            "Requirement already satisfied: numpy>=1.11 in /usr/local/lib/python3.6/dist-packages (from Matplotlib>=2.1->tensorflow-object-detection-api) (1.17.5)\n",
            "Requirement already satisfied: setuptools in /usr/local/lib/python3.6/dist-packages (from Protobuf->tensorflow-object-detection-api) (45.1.0)\n",
            "Requirement already satisfied: six>=1.9 in /usr/local/lib/python3.6/dist-packages (from Protobuf->tensorflow-object-detection-api) (1.12.0)\n",
            "Requirement already satisfied: ipywidgets in /usr/local/lib/python3.6/dist-packages (from jupyter->tensorflow-object-detection-api) (7.5.1)\n",
            "Requirement already satisfied: notebook in /usr/local/lib/python3.6/dist-packages (from jupyter->tensorflow-object-detection-api) (5.2.2)\n",
            "Requirement already satisfied: qtconsole in /usr/local/lib/python3.6/dist-packages (from jupyter->tensorflow-object-detection-api) (4.6.0)\n",
            "Requirement already satisfied: jupyter-console in /usr/local/lib/python3.6/dist-packages (from jupyter->tensorflow-object-detection-api) (5.2.0)\n",
            "Requirement already satisfied: nbconvert in /usr/local/lib/python3.6/dist-packages (from jupyter->tensorflow-object-detection-api) (5.6.1)\n",
            "Requirement already satisfied: ipykernel in /usr/local/lib/python3.6/dist-packages (from jupyter->tensorflow-object-detection-api) (4.6.1)\n",
            "Requirement already satisfied: keras-preprocessing>=1.0.5 in /usr/local/lib/python3.6/dist-packages (from tensorflow->tensorflow-object-detection-api) (1.1.0)\n",
            "Requirement already satisfied: gast==0.2.2 in /usr/local/lib/python3.6/dist-packages (from tensorflow->tensorflow-object-detection-api) (0.2.2)\n",
            "Requirement already satisfied: google-pasta>=0.1.6 in /usr/local/lib/python3.6/dist-packages (from tensorflow->tensorflow-object-detection-api) (0.1.8)\n",
            "Requirement already satisfied: astor>=0.6.0 in /usr/local/lib/python3.6/dist-packages (from tensorflow->tensorflow-object-detection-api) (0.8.1)\n",
            "Requirement already satisfied: absl-py>=0.7.0 in /usr/local/lib/python3.6/dist-packages (from tensorflow->tensorflow-object-detection-api) (0.9.0)\n",
            "Requirement already satisfied: termcolor>=1.1.0 in /usr/local/lib/python3.6/dist-packages (from tensorflow->tensorflow-object-detection-api) (1.1.0)\n",
            "Requirement already satisfied: wrapt>=1.11.1 in /usr/local/lib/python3.6/dist-packages (from tensorflow->tensorflow-object-detection-api) (1.11.2)\n",
            "Requirement already satisfied: grpcio>=1.8.6 in /usr/local/lib/python3.6/dist-packages (from tensorflow->tensorflow-object-detection-api) (1.27.1)\n",
            "Requirement already satisfied: tensorboard<1.16.0,>=1.15.0 in /usr/local/lib/python3.6/dist-packages (from tensorflow->tensorflow-object-detection-api) (1.15.0)\n",
            "Requirement already satisfied: opt-einsum>=2.3.2 in /usr/local/lib/python3.6/dist-packages (from tensorflow->tensorflow-object-detection-api) (3.1.0)\n",
            "Requirement already satisfied: keras-applications>=1.0.8 in /usr/local/lib/python3.6/dist-packages (from tensorflow->tensorflow-object-detection-api) (1.0.8)\n",
            "Requirement already satisfied: tensorflow-estimator==1.15.1 in /usr/local/lib/python3.6/dist-packages (from tensorflow->tensorflow-object-detection-api) (1.15.1)\n",
            "Requirement already satisfied: tqdm>=4.14 in /usr/local/lib/python3.6/dist-packages (from twine->tensorflow-object-detection-api) (4.28.1)\n",
            "Collecting readme-renderer>=21.0\n",
            "  Downloading https://files.pythonhosted.org/packages/c3/7e/d1aae793900f36b097cbfcc5e70eef82b5b56423a6c52a36dce51fedd8f0/readme_renderer-24.0-py2.py3-none-any.whl\n",
            "Collecting keyring>=15.1\n",
            "  Downloading https://files.pythonhosted.org/packages/28/40/2bed013b87d6d2bf4104db67bab7c8c5b5f88ff68b383dc967b6019ee9e5/keyring-21.1.0-py2.py3-none-any.whl\n",
            "Requirement already satisfied: requests>=2.20 in /usr/local/lib/python3.6/dist-packages (from twine->tensorflow-object-detection-api) (2.21.0)\n",
            "Requirement already satisfied: importlib-metadata; python_version < \"3.8\" in /usr/local/lib/python3.6/dist-packages (from twine->tensorflow-object-detection-api) (1.5.0)\n",
            "Collecting pkginfo>=1.4.2\n",
            "  Downloading https://files.pythonhosted.org/packages/e6/d5/451b913307b478c49eb29084916639dc53a88489b993530fed0a66bab8b9/pkginfo-1.5.0.1-py2.py3-none-any.whl\n",
            "Collecting requests-toolbelt!=0.9.0,>=0.8.0\n",
            "\u001b[?25l  Downloading https://files.pythonhosted.org/packages/60/ef/7681134338fc097acef8d9b2f8abe0458e4d87559c689a8c306d0957ece5/requests_toolbelt-0.9.1-py2.py3-none-any.whl (54kB)\n",
            "\u001b[K     |████████████████████████████████| 61kB 6.4MB/s \n",
            "\u001b[?25hRequirement already satisfied: ipython>=4.0.0; python_version >= \"3.3\" in /usr/local/lib/python3.6/dist-packages (from ipywidgets->jupyter->tensorflow-object-detection-api) (5.5.0)\n",
            "Requirement already satisfied: traitlets>=4.3.1 in /usr/local/lib/python3.6/dist-packages (from ipywidgets->jupyter->tensorflow-object-detection-api) (4.3.3)\n",
            "Requirement already satisfied: nbformat>=4.2.0 in /usr/local/lib/python3.6/dist-packages (from ipywidgets->jupyter->tensorflow-object-detection-api) (5.0.4)\n",
            "Requirement already satisfied: widgetsnbextension~=3.5.0 in /usr/local/lib/python3.6/dist-packages (from ipywidgets->jupyter->tensorflow-object-detection-api) (3.5.1)\n",
            "Requirement already satisfied: jupyter-client in /usr/local/lib/python3.6/dist-packages (from notebook->jupyter->tensorflow-object-detection-api) (5.3.4)\n",
            "Requirement already satisfied: jupyter-core in /usr/local/lib/python3.6/dist-packages (from notebook->jupyter->tensorflow-object-detection-api) (4.6.2)\n",
            "Requirement already satisfied: terminado>=0.3.3; sys_platform != \"win32\" in /usr/local/lib/python3.6/dist-packages (from notebook->jupyter->tensorflow-object-detection-api) (0.8.3)\n",
            "Requirement already satisfied: tornado>=4 in /usr/local/lib/python3.6/dist-packages (from notebook->jupyter->tensorflow-object-detection-api) (4.5.3)\n",
            "Requirement already satisfied: jinja2 in /usr/local/lib/python3.6/dist-packages (from notebook->jupyter->tensorflow-object-detection-api) (2.11.1)\n",
            "Requirement already satisfied: ipython-genutils in /usr/local/lib/python3.6/dist-packages (from notebook->jupyter->tensorflow-object-detection-api) (0.2.0)\n",
            "Requirement already satisfied: pygments in /usr/local/lib/python3.6/dist-packages (from qtconsole->jupyter->tensorflow-object-detection-api) (2.1.3)\n",
            "Requirement already satisfied: prompt-toolkit<2.0.0,>=1.0.0 in /usr/local/lib/python3.6/dist-packages (from jupyter-console->jupyter->tensorflow-object-detection-api) (1.0.18)\n",
            "Requirement already satisfied: bleach in /usr/local/lib/python3.6/dist-packages (from nbconvert->jupyter->tensorflow-object-detection-api) (3.1.0)\n",
            "Requirement already satisfied: pandocfilters>=1.4.1 in /usr/local/lib/python3.6/dist-packages (from nbconvert->jupyter->tensorflow-object-detection-api) (1.4.2)\n",
            "Requirement already satisfied: entrypoints>=0.2.2 in /usr/local/lib/python3.6/dist-packages (from nbconvert->jupyter->tensorflow-object-detection-api) (0.3)\n",
            "Requirement already satisfied: mistune<2,>=0.8.1 in /usr/local/lib/python3.6/dist-packages (from nbconvert->jupyter->tensorflow-object-detection-api) (0.8.4)\n",
            "Requirement already satisfied: defusedxml in /usr/local/lib/python3.6/dist-packages (from nbconvert->jupyter->tensorflow-object-detection-api) (0.6.0)\n",
            "Requirement already satisfied: testpath in /usr/local/lib/python3.6/dist-packages (from nbconvert->jupyter->tensorflow-object-detection-api) (0.4.4)\n",
            "Requirement already satisfied: werkzeug>=0.11.15 in /usr/local/lib/python3.6/dist-packages (from tensorboard<1.16.0,>=1.15.0->tensorflow->tensorflow-object-detection-api) (1.0.0)\n",
            "Requirement already satisfied: markdown>=2.6.8 in /usr/local/lib/python3.6/dist-packages (from tensorboard<1.16.0,>=1.15.0->tensorflow->tensorflow-object-detection-api) (3.2.1)\n",
            "Requirement already satisfied: h5py in /usr/local/lib/python3.6/dist-packages (from keras-applications>=1.0.8->tensorflow->tensorflow-object-detection-api) (2.8.0)\n",
            "Requirement already satisfied: docutils>=0.13.1 in /usr/local/lib/python3.6/dist-packages (from readme-renderer>=21.0->twine->tensorflow-object-detection-api) (0.15.2)\n",
            "Collecting SecretStorage>=3; sys_platform == \"linux\"\n",
            "  Downloading https://files.pythonhosted.org/packages/c3/50/8a02cad020e949e6d7105f5f4530d41e3febcaa5b73f8f2148aacb3aeba5/SecretStorage-3.1.2-py3-none-any.whl\n",
            "Collecting jeepney>=0.4.2; sys_platform == \"linux\"\n",
            "  Downloading https://files.pythonhosted.org/packages/ae/35/7e580cfed452e3b8c3cca44290adc54b8b5a5b8e37f89da5d24b09318be8/jeepney-0.4.2-py3-none-any.whl\n",
            "Requirement already satisfied: chardet<3.1.0,>=3.0.2 in /usr/local/lib/python3.6/dist-packages (from requests>=2.20->twine->tensorflow-object-detection-api) (3.0.4)\n",
            "Requirement already satisfied: idna<2.9,>=2.5 in /usr/local/lib/python3.6/dist-packages (from requests>=2.20->twine->tensorflow-object-detection-api) (2.8)\n",
            "Requirement already satisfied: certifi>=2017.4.17 in /usr/local/lib/python3.6/dist-packages (from requests>=2.20->twine->tensorflow-object-detection-api) (2019.11.28)\n",
            "Requirement already satisfied: urllib3<1.25,>=1.21.1 in /usr/local/lib/python3.6/dist-packages (from requests>=2.20->twine->tensorflow-object-detection-api) (1.24.3)\n",
            "Requirement already satisfied: zipp>=0.5 in /usr/local/lib/python3.6/dist-packages (from importlib-metadata; python_version < \"3.8\"->twine->tensorflow-object-detection-api) (2.2.0)\n",
            "Requirement already satisfied: decorator in /usr/local/lib/python3.6/dist-packages (from ipython>=4.0.0; python_version >= \"3.3\"->ipywidgets->jupyter->tensorflow-object-detection-api) (4.4.1)\n",
            "Requirement already satisfied: pexpect; sys_platform != \"win32\" in /usr/local/lib/python3.6/dist-packages (from ipython>=4.0.0; python_version >= \"3.3\"->ipywidgets->jupyter->tensorflow-object-detection-api) (4.8.0)\n",
            "Requirement already satisfied: pickleshare in /usr/local/lib/python3.6/dist-packages (from ipython>=4.0.0; python_version >= \"3.3\"->ipywidgets->jupyter->tensorflow-object-detection-api) (0.7.5)\n",
            "Requirement already satisfied: simplegeneric>0.8 in /usr/local/lib/python3.6/dist-packages (from ipython>=4.0.0; python_version >= \"3.3\"->ipywidgets->jupyter->tensorflow-object-detection-api) (0.8.1)\n",
            "Requirement already satisfied: jsonschema!=2.5.0,>=2.4 in /usr/local/lib/python3.6/dist-packages (from nbformat>=4.2.0->ipywidgets->jupyter->tensorflow-object-detection-api) (2.6.0)\n",
            "Requirement already satisfied: pyzmq>=13 in /usr/local/lib/python3.6/dist-packages (from jupyter-client->notebook->jupyter->tensorflow-object-detection-api) (17.0.0)\n",
            "Requirement already satisfied: ptyprocess; os_name != \"nt\" in /usr/local/lib/python3.6/dist-packages (from terminado>=0.3.3; sys_platform != \"win32\"->notebook->jupyter->tensorflow-object-detection-api) (0.6.0)\n",
            "Requirement already satisfied: MarkupSafe>=0.23 in /usr/local/lib/python3.6/dist-packages (from jinja2->notebook->jupyter->tensorflow-object-detection-api) (1.1.1)\n",
            "Requirement already satisfied: wcwidth in /usr/local/lib/python3.6/dist-packages (from prompt-toolkit<2.0.0,>=1.0.0->jupyter-console->jupyter->tensorflow-object-detection-api) (0.1.8)\n",
            "Requirement already satisfied: webencodings in /usr/local/lib/python3.6/dist-packages (from bleach->nbconvert->jupyter->tensorflow-object-detection-api) (0.5.1)\n",
            "Collecting cryptography\n",
            "\u001b[?25l  Downloading https://files.pythonhosted.org/packages/ca/9a/7cece52c46546e214e10811b36b2da52ce1ea7fa203203a629b8dfadad53/cryptography-2.8-cp34-abi3-manylinux2010_x86_64.whl (2.3MB)\n",
            "\u001b[K     |████████████████████████████████| 2.3MB 57.0MB/s \n",
            "\u001b[?25hRequirement already satisfied: cffi!=1.11.3,>=1.8 in /usr/local/lib/python3.6/dist-packages (from cryptography->SecretStorage>=3; sys_platform == \"linux\"->keyring>=15.1->twine->tensorflow-object-detection-api) (1.14.0)\n",
            "Requirement already satisfied: pycparser in /usr/local/lib/python3.6/dist-packages (from cffi!=1.11.3,>=1.8->cryptography->SecretStorage>=3; sys_platform == \"linux\"->keyring>=15.1->twine->tensorflow-object-detection-api) (2.19)\n",
            "Building wheels for collected packages: tensorflow-object-detection-api\n",
            "  Building wheel for tensorflow-object-detection-api (setup.py) ... \u001b[?25l\u001b[?25hdone\n",
            "  Created wheel for tensorflow-object-detection-api: filename=tensorflow_object_detection_api-0.1.1-cp36-none-any.whl size=844515 sha256=c4c0213bf2bb18d948bda8a20c09946b0149593260d5b666f2492e1365fab7c2\n",
            "  Stored in directory: /root/.cache/pip/wheels/4a/54/d0/cfca11930c4b2025d40dede77059094070a67cc3e7bd3b285f\n",
            "Successfully built tensorflow-object-detection-api\n",
            "Installing collected packages: readme-renderer, jeepney, cryptography, SecretStorage, keyring, pkginfo, requests-toolbelt, twine, tensorflow-object-detection-api\n",
            "Successfully installed SecretStorage-3.1.2 cryptography-2.8 jeepney-0.4.2 keyring-21.1.0 pkginfo-1.5.0.1 readme-renderer-24.0 requests-toolbelt-0.9.1 tensorflow-object-detection-api-0.1.1 twine-3.1.1\n"
          ],
          "name": "stdout"
        }
      ]
    },
    {
      "cell_type": "code",
      "metadata": {
        "id": "XQu_en9XqOQu",
        "colab": {
          "base_uri": "https://localhost:8080/",
          "height": 63
        },
        "outputId": "16a863c9-ae23-46a7-f154-a9b0499eed0f"
      },
      "source": [
        "\"\"\"\n",
        "Usage:\n",
        "  # From tensorflow/models/\n",
        "  # Create train data:\n",
        "  python generate_tfrecord.py --csv_input=data/train_labels.csv  --output_path=train.record\n",
        "  # Create test data:\n",
        "  python generate_tfrecord.py --csv_input=data/test_labels.csv  --output_path=test.record\n",
        "\"\"\"\n",
        "from __future__ import division\n",
        "from __future__ import print_function\n",
        "from __future__ import absolute_import\n",
        "\n",
        "import os\n",
        "import io\n",
        "import pandas as pd\n",
        "import tensorflow as tf\n",
        "\n",
        "from PIL import Image\n",
        "from object_detection.utils import dataset_util\n",
        "from collections import namedtuple, OrderedDict"
      ],
      "execution_count": null,
      "outputs": [
        {
          "output_type": "display_data",
          "data": {
            "text/html": [
              "<p style=\"color: red;\">\n",
              "The default version of TensorFlow in Colab will soon switch to TensorFlow 2.x.<br>\n",
              "We recommend you <a href=\"https://www.tensorflow.org/guide/migrate\" target=\"_blank\">upgrade</a> now \n",
              "or ensure your notebook will continue to use TensorFlow 1.x via the <code>%tensorflow_version 1.x</code> magic:\n",
              "<a href=\"https://colab.research.google.com/notebooks/tensorflow_version.ipynb\" target=\"_blank\">more info</a>.</p>\n"
            ],
            "text/plain": [
              "<IPython.core.display.HTML object>"
            ]
          },
          "metadata": {
            "tags": []
          }
        }
      ]
    },
    {
      "cell_type": "code",
      "metadata": {
        "id": "RX5TkIKGtGvk",
        "colab": {
          "base_uri": "https://localhost:8080/",
          "height": 51
        },
        "outputId": "f30f1ea8-b6c7-4e83-d807-ea23fb260f35"
      },
      "source": [
        "# strategy: I have uploaded the csv file to google drive, then mounted \n",
        "# drive in colab and then converted csv file into images\n",
        "# mount google drive in colab\n",
        "from google.colab import drive\n",
        "drive.mount('/content/drive') # this is saved under /content/drive dir\n",
        "\n",
        "print(tf.__version__) # 1.15.0 is good for edgetpu"
      ],
      "execution_count": null,
      "outputs": [
        {
          "output_type": "stream",
          "text": [
            "Drive already mounted at /content/drive; to attempt to forcibly remount, call drive.mount(\"/content/drive\", force_remount=True).\n",
            "1.15.0\n"
          ],
          "name": "stdout"
        }
      ]
    },
    {
      "cell_type": "markdown",
      "metadata": {
        "id": "fI1xYmavtesb"
      },
      "source": [
        "# New Section"
      ]
    },
    {
      "cell_type": "code",
      "metadata": {
        "id": "MEA2noLcqxe5"
      },
      "source": [
        "flags = tf.app.flags\n",
        "flags.DEFINE_string('csv_input', '', 'Path to the CSV input')\n",
        "flags.DEFINE_string('output_path', '', 'Path to output TFRecord')\n",
        "flags.DEFINE_string('image_dir', '', 'Path to images')\n",
        "FLAGS = flags.FLAGS"
      ],
      "execution_count": null,
      "outputs": []
    },
    {
      "cell_type": "code",
      "metadata": {
        "id": "_BL3vPyVq3ws"
      },
      "source": [
        "# label map\n",
        "def class_text_to_int(row_label):\n",
        "    if row_label == 'AvNetMicrozed':\n",
        "        return 1\n",
        "    if row_label == 'AvNetMicrozed_back':\n",
        "        return 2\n",
        "    if row_label == 'CSOC-Camera-Mdoule-P1,Rev1':\n",
        "        return 3\n",
        "    if row_label == 'CSOC-Camera-Mdoule-P1,Rev1_back':\n",
        "        return 4\n",
        "    if row_label == 'CSOC-Camera-Mdoule-P2,Rev.1':\n",
        "        return 5\n",
        "    if row_label == 'CSOC-Camera-Mdoule-P2,Rev.1_back':\n",
        "        return 6\n",
        "    if row_label == 'E627280':\n",
        "        return 7\n",
        "    if row_label == 'E627280_back':\n",
        "        return 8\n",
        "    if row_label == 'E627797':\n",
        "        return 9\n",
        "    if row_label == 'E627797_back':\n",
        "        return 10\n",
        "    if row_label == 'Raspberry-pi-b+':\n",
        "        return 11\n",
        "    if row_label == 'Raspberry-pi-b+_back':\n",
        "        return 12\n",
        "    if row_label == 'ZYBO-Z7':\n",
        "        return 13\n",
        "    if row_label == 'ZYBO-Z7_back':\n",
        "        return 14\n",
        "    else:\n",
        "        None"
      ],
      "execution_count": null,
      "outputs": []
    },
    {
      "cell_type": "code",
      "metadata": {
        "id": "2DfgnjIhq841"
      },
      "source": [
        "def split(df, group):\n",
        "    data = namedtuple('data', ['filename', 'object'])\n",
        "    gb = df.groupby(group)\n",
        "    return [data(filename, gb.get_group(x)) for filename, x in zip(gb.groups.keys(), gb.groups)]\n",
        "\n",
        "\n",
        "def create_tf_example(group, path):\n",
        "    with tf.gfile.GFile(os.path.join(path, '{}'.format(group.filename)), 'rb') as fid:\n",
        "        encoded_jpg = fid.read()\n",
        "    encoded_jpg_io = io.BytesIO(encoded_jpg)\n",
        "    image = Image.open(encoded_jpg_io)\n",
        "    width, height = image.size\n",
        "\n",
        "    filename = group.filename.encode('utf8')\n",
        "    image_format = b'jpg'\n",
        "    xmins = []\n",
        "    xmaxs = []\n",
        "    ymins = []\n",
        "    ymaxs = []\n",
        "    classes_text = []\n",
        "    classes = []\n",
        "\n",
        "    for index, row in group.object.iterrows():\n",
        "        xmins.append(row['xmin'] / width)\n",
        "        xmaxs.append(row['xmax'] / width)\n",
        "        ymins.append(row['ymin'] / height)\n",
        "        ymaxs.append(row['ymax'] / height)\n",
        "        classes_text.append(row['class'].encode('utf8'))\n",
        "        classes.append(class_text_to_int(row['class']))\n",
        "\n",
        "    tf_example = tf.train.Example(features=tf.train.Features(feature={\n",
        "        'image/height': dataset_util.int64_feature(height),\n",
        "        'image/width': dataset_util.int64_feature(width),\n",
        "        'image/filename': dataset_util.bytes_feature(filename),\n",
        "        'image/source_id': dataset_util.bytes_feature(filename),\n",
        "        'image/encoded': dataset_util.bytes_feature(encoded_jpg),\n",
        "        'image/format': dataset_util.bytes_feature(image_format),\n",
        "        'image/object/bbox/xmin': dataset_util.float_list_feature(xmins),\n",
        "        'image/object/bbox/xmax': dataset_util.float_list_feature(xmaxs),\n",
        "        'image/object/bbox/ymin': dataset_util.float_list_feature(ymins),\n",
        "        'image/object/bbox/ymax': dataset_util.float_list_feature(ymaxs),\n",
        "        'image/object/class/text': dataset_util.bytes_list_feature(classes_text),\n",
        "        'image/object/class/label': dataset_util.int64_list_feature(classes),\n",
        "    }))\n",
        "    return tf_example\n",
        "\n",
        "\n",
        "# def main(_):\n",
        "#     writer = tf.python_io.TFRecordWriter(FLAGS.output_path)\n",
        "#     path = os.path.join(FLAGS.image_dir)\n",
        "#     examples = pd.read_csv(FLAGS.csv_input)\n",
        "#     grouped = split(examples, 'filename')\n",
        "#     for group in grouped:\n",
        "#         tf_example = create_tf_example(group, path)\n",
        "#         writer.write(tf_example.SerializeToString())\n",
        "\n",
        "#     writer.close()\n",
        "#     output_path = os.path.join(os.getcwd(), FLAGS.output_path)\n",
        "#     print('Successfully created the TFRecords: {}'.format(output_path))\n",
        "\n",
        "\n",
        "# if __name__ == '__main__':\n",
        "#     tf.app.run()"
      ],
      "execution_count": null,
      "outputs": []
    },
    {
      "cell_type": "code",
      "metadata": {
        "id": "Qo695qvOty6u",
        "colab": {
          "base_uri": "https://localhost:8080/",
          "height": 34
        },
        "outputId": "3dfa1153-dcff-4e1f-c78a-1377d67291c5"
      },
      "source": [
        "# generate training tfrecord\n",
        "writer = tf.python_io.TFRecordWriter('/content/drive/My Drive/board_detection/train.record')\n",
        "path = os.path.join('/content/drive/My Drive/board_detection/train')\n",
        "examples = pd.read_csv('/content/drive/My Drive/board_detection/train_labels.csv')\n",
        "grouped = split(examples, 'filename')\n",
        "for group in grouped:\n",
        "    tf_example = create_tf_example(group, path)\n",
        "    writer.write(tf_example.SerializeToString())\n",
        "\n",
        "writer.close()\n",
        "output_path = os.path.join(os.getcwd(), FLAGS.output_path)\n",
        "print('Successfully created the TFRecords: {}'.format(output_path))"
      ],
      "execution_count": null,
      "outputs": [
        {
          "output_type": "stream",
          "text": [
            "Successfully created the TFRecords: /content/\n"
          ],
          "name": "stdout"
        }
      ]
    },
    {
      "cell_type": "code",
      "metadata": {
        "id": "ZsmupQuywqSj",
        "colab": {
          "base_uri": "https://localhost:8080/",
          "height": 34
        },
        "outputId": "f7756120-d4c8-4bb7-cfb5-c8e288f2982c"
      },
      "source": [
        "# generate test tfrecord\n",
        "writer = tf.python_io.TFRecordWriter('/content/drive/My Drive/board_detection/test.record')\n",
        "path = os.path.join('/content/drive/My Drive/board_detection/test')\n",
        "examples = pd.read_csv('/content/drive/My Drive/board_detection/test_labels.csv')\n",
        "grouped = split(examples, 'filename')\n",
        "for group in grouped:\n",
        "    tf_example = create_tf_example(group, path)\n",
        "    writer.write(tf_example.SerializeToString())\n",
        "\n",
        "writer.close()\n",
        "output_path = os.path.join(os.getcwd(), FLAGS.output_path)\n",
        "print('Successfully created the TFRecords: {}'.format(output_path))"
      ],
      "execution_count": null,
      "outputs": [
        {
          "output_type": "stream",
          "text": [
            "Successfully created the TFRecords: /content/\n"
          ],
          "name": "stdout"
        }
      ]
    },
    {
      "cell_type": "code",
      "metadata": {
        "id": "Bvqm-sEMQ28b",
        "colab": {
          "base_uri": "https://localhost:8080/",
          "height": 357
        },
        "outputId": "f3010db1-a521-47c9-ceb1-2065101d2d00"
      },
      "source": [
        "# ! export PYTHONPATH=$PYTHONPATH:pwd:pwd/slim\n",
        "!python model_main.py --logtostderr --model_dir=/content/drive/My Drive/board_detection/output_model/ --pipeline_config_path=/content/drive/My Drive/board_detection/mobilenet_ssd_v2_coco_board.config\n",
        "# !ls\n",
        "# model_dir is output model directory"
      ],
      "execution_count": null,
      "outputs": [
        {
          "output_type": "stream",
          "text": [
            "WARNING:tensorflow:\n",
            "The TensorFlow contrib module will not be included in TensorFlow 2.0.\n",
            "For more information, please see:\n",
            "  * https://github.com/tensorflow/community/blob/master/rfcs/20180907-contrib-sunset.md\n",
            "  * https://github.com/tensorflow/addons\n",
            "  * https://github.com/tensorflow/io (for I/O related ops)\n",
            "If you depend on functionality not listed there, please file an issue.\n",
            "\n",
            "Traceback (most recent call last):\n",
            "  File \"model_main.py\", line 26, in <module>\n",
            "    from object_detection import model_lib\n",
            "  File \"/usr/local/lib/python3.6/dist-packages/object_detection/model_lib.py\", line 28, in <module>\n",
            "    from object_detection import exporter as exporter_lib\n",
            "  File \"/usr/local/lib/python3.6/dist-packages/object_detection/exporter.py\", line 24, in <module>\n",
            "    from object_detection.builders import model_builder\n",
            "  File \"/usr/local/lib/python3.6/dist-packages/object_detection/builders/model_builder.py\", line 35, in <module>\n",
            "    from object_detection.models import faster_rcnn_inception_resnet_v2_feature_extractor as frcnn_inc_res\n",
            "  File \"/usr/local/lib/python3.6/dist-packages/object_detection/models/faster_rcnn_inception_resnet_v2_feature_extractor.py\", line 28, in <module>\n",
            "    from nets import inception_resnet_v2\n",
            "ModuleNotFoundError: No module named 'nets'\n"
          ],
          "name": "stdout"
        }
      ]
    }
  ]
}