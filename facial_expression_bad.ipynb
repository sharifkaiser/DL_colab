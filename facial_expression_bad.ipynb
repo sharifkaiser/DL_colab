{
  "nbformat": 4,
  "nbformat_minor": 0,
  "metadata": {
    "accelerator": "GPU",
    "colab": {
      "name": "facial_expression_bad.ipynb",
      "provenance": [],
      "collapsed_sections": [
        "kb__ZN8uFn-D",
        "4Olg6MsNGJTL",
        "CkGbZxl9GZs-",
        "gJDyzEfYuFcW"
      ],
      "toc_visible": true,
      "include_colab_link": true
    },
    "kernelspec": {
      "name": "python3",
      "display_name": "Python 3"
    }
  },
  "cells": [
    {
      "cell_type": "markdown",
      "metadata": {
        "id": "view-in-github",
        "colab_type": "text"
      },
      "source": [
        "<a href=\"https://colab.research.google.com/github/sharifkaiser/DL_colab/blob/master/facial_expression_bad.ipynb\" target=\"_parent\"><img src=\"https://colab.research.google.com/assets/colab-badge.svg\" alt=\"Open In Colab\"/></a>"
      ]
    },
    {
      "cell_type": "code",
      "metadata": {
        "id": "OGNpmn43C0O6",
        "colab": {
          "base_uri": "https://localhost:8080/",
          "height": 236
        },
        "outputId": "b759f9d1-182d-439d-8e3b-ef5e46f00a35"
      },
      "source": [
        "!pip3 install kaggle # api for downloading dataset\n",
        "from __future__ import absolute_import, division, print_function, unicode_literals\n",
        "\n",
        "try:\n",
        "  # Use the %tensorflow_version magic if in colab.\n",
        "  %tensorflow_version 2.x\n",
        "except Exception:\n",
        "  pass\n",
        "\n",
        "import tensorflow as tf"
      ],
      "execution_count": null,
      "outputs": [
        {
          "output_type": "stream",
          "text": [
            "Requirement already satisfied: kaggle in /usr/local/lib/python3.6/dist-packages (1.5.6)\n",
            "Requirement already satisfied: requests in /usr/local/lib/python3.6/dist-packages (from kaggle) (2.21.0)\n",
            "Requirement already satisfied: urllib3<1.25,>=1.21.1 in /usr/local/lib/python3.6/dist-packages (from kaggle) (1.24.3)\n",
            "Requirement already satisfied: six>=1.10 in /usr/local/lib/python3.6/dist-packages (from kaggle) (1.12.0)\n",
            "Requirement already satisfied: tqdm in /usr/local/lib/python3.6/dist-packages (from kaggle) (4.28.1)\n",
            "Requirement already satisfied: certifi in /usr/local/lib/python3.6/dist-packages (from kaggle) (2019.11.28)\n",
            "Requirement already satisfied: python-slugify in /usr/local/lib/python3.6/dist-packages (from kaggle) (4.0.0)\n",
            "Requirement already satisfied: python-dateutil in /usr/local/lib/python3.6/dist-packages (from kaggle) (2.6.1)\n",
            "Requirement already satisfied: idna<2.9,>=2.5 in /usr/local/lib/python3.6/dist-packages (from requests->kaggle) (2.8)\n",
            "Requirement already satisfied: chardet<3.1.0,>=3.0.2 in /usr/local/lib/python3.6/dist-packages (from requests->kaggle) (3.0.4)\n",
            "Requirement already satisfied: text-unidecode>=1.3 in /usr/local/lib/python3.6/dist-packages (from python-slugify->kaggle) (1.3)\n",
            "TensorFlow 2.x selected.\n"
          ],
          "name": "stdout"
        }
      ]
    },
    {
      "cell_type": "code",
      "metadata": {
        "id": "GsUfMqttg5pW",
        "colab": {
          "base_uri": "https://localhost:8080/",
          "height": 136
        },
        "outputId": "cec18cdf-efc3-4920-8199-eb5e5057370c"
      },
      "source": [
        "# strategy: I have uploaded the csv file to google drive, then mounted \n",
        "# drive in colab and then converted csv file into images\n",
        "# mount google drive in colab\n",
        "from google.colab import drive\n",
        "drive.mount('/content/drive') # this is saved under /content/drive dir\n",
        "\n",
        "!ls"
      ],
      "execution_count": null,
      "outputs": [
        {
          "output_type": "stream",
          "text": [
            "Go to this URL in a browser: https://accounts.google.com/o/oauth2/auth?client_id=947318989803-6bn6qk8qdgf4n4g3pfee6491hc0brc4i.apps.googleusercontent.com&redirect_uri=urn%3aietf%3awg%3aoauth%3a2.0%3aoob&response_type=code&scope=email%20https%3a%2f%2fwww.googleapis.com%2fauth%2fdocs.test%20https%3a%2f%2fwww.googleapis.com%2fauth%2fdrive%20https%3a%2f%2fwww.googleapis.com%2fauth%2fdrive.photos.readonly%20https%3a%2f%2fwww.googleapis.com%2fauth%2fpeopleapi.readonly\n",
            "\n",
            "Enter your authorization code:\n",
            "··········\n",
            "Mounted at /content/drive\n",
            "drive  sample_data\n"
          ],
          "name": "stdout"
        }
      ]
    },
    {
      "cell_type": "code",
      "metadata": {
        "id": "h9rjElDhllVa",
        "colab": {
          "base_uri": "https://localhost:8080/",
          "height": 66
        },
        "outputId": "0b2619d7-fef2-40c1-aefb-f26961d59f6b"
      },
      "source": [
        "# convert from csv to image\n",
        "import keras\n",
        "import numpy as np\n",
        "\n",
        "# initialize global variables\n",
        "NUM_CLASSES = 7\n",
        "\n",
        "# kaggle facial expression recognition dataset contains 48*48 pixel greyscale images\n",
        "IMG_WIDTH = 48\n",
        "IMG_HEIGHT = 48\n",
        "\n",
        "#initialize trainset and test set\n",
        "train_label, train_data, test_label, test_data = [], [], [], []\n",
        "\n",
        "# data = pd.read_csv(source)  # read file\n",
        "with open('/content/drive/My Drive/dataset/fer2013.csv') as f:\n",
        "  content = f.readlines()\n",
        "\n",
        "lines = np.array(content)\n",
        "num_of_instances = lines.size\n",
        "print(\"number of instances: \",num_of_instances) # total number of images\n",
        "# print(\"instance length: \",len(lines[1].split(\",\")[1].split(\" \")))  # how many pixels\n",
        "  #------------------------------\n",
        "#transfer train and test set data\n",
        "for i in range(1,num_of_instances):\n",
        "  # try:\n",
        "      emotion, img, usage = lines[i].split(\",\")\n",
        "      val = img.split(\" \")\n",
        "      pixels = np.array(val, 'float32')\n",
        "      emotion = keras.utils.to_categorical(emotion, NUM_CLASSES)\n",
        "      if 'Training' in usage:\n",
        "          train_data.append(pixels)\n",
        "          train_label.append(emotion)\n",
        "      else:              \n",
        "          test_data.append(pixels)\n",
        "          test_label.append(emotion)\n",
        "  # except:\n",
        "  #   pass\n",
        "\n",
        "#------------------------------\n",
        "#data transformation for train and test sets\n",
        "train_label = np.array(train_label, 'float32')\n",
        "train_data = np.array(train_data, 'float32')\n",
        "test_data = np.array(test_data, 'float32')\n",
        "test_label = np.array(test_label, 'float32')\n",
        "\n",
        "train_data /= 255 #normalize inputs between [0, 1]\n",
        "test_data /= 255\n",
        "\n",
        "train_data = train_data.reshape(train_data.shape[0], 48, 48, 1)\n",
        "train_data = train_data.astype('float32')\n",
        "test_data = test_data.reshape(test_data.shape[0], 48, 48, 1)\n",
        "test_data = test_data.astype('float32')\n",
        "\n",
        "print(train_data.shape[0], 'train samples')\n",
        "print(test_data.shape[0], 'test samples')\n"
      ],
      "execution_count": null,
      "outputs": [
        {
          "output_type": "stream",
          "text": [
            "number of instances:  35888\n",
            "28709 train samples\n",
            "7178 test samples\n"
          ],
          "name": "stdout"
        }
      ]
    },
    {
      "cell_type": "code",
      "metadata": {
        "id": "gEsgwsqbHFn2"
      },
      "source": [
        "from __future__ import absolute_import, division, print_function, unicode_literals\n",
        "\n",
        "import os\n",
        "import numpy as np\n",
        "import glob\n",
        "import shutil\n",
        "import matplotlib.pyplot as plt\n",
        "from tensorflow.keras.preprocessing.image import ImageDataGenerator\n",
        "\n",
        "BATCH_SIZE = 128\n",
        "IMAGE_RES = 48  # for this dataset img shape is 48*48\n",
        "\n",
        "# This function will plot images in the form of a grid with 1 row and 5 columns where images are placed in each column.\n",
        "def plotImages(images_arr):\n",
        "    fig, axes = plt.subplots(1, 5, figsize=(20,20))\n",
        "    axes = axes.flatten()\n",
        "    for img, ax in zip( images_arr, axes):\n",
        "        ax.imshow(img)\n",
        "    plt.tight_layout()\n",
        "    plt.show()\n",
        "\n",
        "# image augmentation makes it worse, so no augmentation\n",
        "# image_gen_train = ImageDataGenerator(\n",
        "#   rescale=1./255, # rescaling is necessary, ref: https://www.linkedin.com/pulse/keras-image-preprocessing-scaling-pixels-training-adwin-jahn\n",
        "#   rotation_range=45,\n",
        "#   width_shift_range=0.10,\n",
        "#   height_shift_range=0.10,\n",
        "#   shear_range=0.1,\n",
        "#   horizontal_flip=True,\n",
        "#   fill_mode='nearest'\n",
        "# )\n",
        "# image_gen_val = ImageDataGenerator(rescale=1./255)\n",
        "\n",
        "# Try with no augmentation\n",
        "gen = ImageDataGenerator()\n",
        "train_data_gen = gen.flow(train_data, train_label, batch_size=BATCH_SIZE)\n",
        "val_data_gen = gen.flow(test_data, test_label, batch_size=BATCH_SIZE)\n",
        "\n",
        "# augmented_images = [train_data_gen[0][0][1] for i in range(5)]\n",
        "\n"
      ],
      "execution_count": null,
      "outputs": []
    },
    {
      "cell_type": "markdown",
      "metadata": {
        "id": "CtFmF7A5E4tk"
      },
      "source": [
        "### Train the model without transfer learning\n"
      ]
    },
    {
      "cell_type": "code",
      "metadata": {
        "id": "Jg5ar6rcE4H-",
        "colab": {
          "base_uri": "https://localhost:8080/",
          "height": 1000
        },
        "outputId": "d1c0e993-3aa9-4f1a-88ae-97c09f7473a5"
      },
      "source": [
        "EPOCHS = 25\n",
        "\n",
        "from tensorflow.keras.layers import Dense, Input, Dropout, GlobalAveragePooling2D, Flatten, Conv2D, BatchNormalization, Activation, MaxPooling2D, AveragePooling2D\n",
        "from tensorflow.keras import Model, Sequential\n",
        "from tensorflow.keras.optimizers import Adam\n",
        "\n",
        "# Initialising the CNN\n",
        "model = Sequential()\n",
        "\n",
        "#1st convolution layer\n",
        "model.add(Conv2D(64, (5, 5), activation='relu', input_shape=(48,48,1)))\n",
        "model.add(MaxPooling2D(pool_size=(5,5), strides=(2, 2)))\n",
        "\n",
        "#2nd convolution layer\n",
        "model.add(Conv2D(64, (3, 3), activation='relu'))\n",
        "model.add(Conv2D(64, (3, 3), activation='relu'))\n",
        "model.add(AveragePooling2D(pool_size=(3,3), strides=(2, 2)))\n",
        "\n",
        "#3rd convolution layer\n",
        "model.add(Conv2D(128, (3, 3), activation='relu'))\n",
        "model.add(Conv2D(128, (3, 3), activation='relu'))\n",
        "model.add(AveragePooling2D(pool_size=(3,3), strides=(2, 2)))\n",
        "\n",
        "model.add(Flatten())\n",
        "\n",
        "#fully connected neural networks\n",
        "model.add(Dense(1024, activation='relu'))\n",
        "model.add(Dropout(0.2))\n",
        "\n",
        "model.add(Dense(1024, activation='relu'))\n",
        "model.add(Dropout(0.2))\n",
        "\n",
        "model.add(Dense(NUM_CLASSES, activation='softmax'))\n",
        "#------------------------------\n",
        "model.compile(\n",
        "    loss='categorical_crossentropy',\n",
        "    optimizer='adam',\n",
        "    metrics=['accuracy']\n",
        ")\n",
        "\n",
        "#------------------------------\n",
        "from keras.callbacks import ModelCheckpoint\n",
        "\n",
        "# following code saves if validation accuracy increases from past history\n",
        "checkpoint = ModelCheckpoint(\"model_weights.h5\", monitor='val_acc', verbose=1, save_best_only=True, mode='max')\n",
        "callbacks_list = [checkpoint]\n",
        "\n",
        "fit = True\n",
        "\n",
        "# if fit == True:\t\n",
        "history = model.fit_generator(\n",
        "  generator=train_data_gen,\n",
        "  steps_per_epoch=train_data_gen.n//train_data_gen.batch_size,\n",
        "  epochs=EPOCHS,\n",
        "  validation_data = val_data_gen,\n",
        "  validation_steps = val_data_gen.n//val_data_gen.batch_size,\n",
        "  callbacks=callbacks_list\n",
        ")\n",
        "# model.fit_generator(train_data_gen, steps_per_epoch=train_data_gen.n//train_data_gen.batch_size, epochs=EPOCHS)\n",
        "# else:\n",
        "# \tmodel.load_weights('/data/facial_expression_model_weights.h5') #load weights\n",
        "\n",
        "# If your train accuracy increases, meanwhile your test accuracy decreases, \n",
        "# then this means that you fall into overfitting."
      ],
      "execution_count": null,
      "outputs": [
        {
          "output_type": "stream",
          "text": [
            "WARNING:tensorflow:sample_weight modes were coerced from\n",
            "  ...\n",
            "    to  \n",
            "  ['...']\n",
            "WARNING:tensorflow:sample_weight modes were coerced from\n",
            "  ...\n",
            "    to  \n",
            "  ['...']\n",
            "Train for 224 steps, validate for 56 steps\n",
            "Epoch 1/25\n",
            "224/224 [==============================] - 4s 18ms/step - loss: 1.8177 - accuracy: 0.2480 - val_loss: 1.8177 - val_accuracy: 0.2472\n",
            "Epoch 2/25\n",
            " 14/224 [>.............................] - ETA: 2s - loss: 1.8255 - accuracy: 0.2483"
          ],
          "name": "stdout"
        },
        {
          "output_type": "stream",
          "text": [
            "/usr/local/lib/python3.6/dist-packages/keras/callbacks.py:707: RuntimeWarning: Can save best model only with val_acc available, skipping.\n",
            "  'skipping.' % (self.monitor), RuntimeWarning)\n"
          ],
          "name": "stderr"
        },
        {
          "output_type": "stream",
          "text": [
            "224/224 [==============================] - 3s 14ms/step - loss: 1.8097 - accuracy: 0.2495 - val_loss: 1.7955 - val_accuracy: 0.2472\n",
            "Epoch 3/25\n",
            "224/224 [==============================] - 3s 14ms/step - loss: 1.7447 - accuracy: 0.2758 - val_loss: 1.6796 - val_accuracy: 0.3157\n",
            "Epoch 4/25\n",
            "224/224 [==============================] - 3s 14ms/step - loss: 1.6171 - accuracy: 0.3552 - val_loss: 1.5516 - val_accuracy: 0.3887\n",
            "Epoch 5/25\n",
            "224/224 [==============================] - 3s 14ms/step - loss: 1.5302 - accuracy: 0.4018 - val_loss: 1.4926 - val_accuracy: 0.4194\n",
            "Epoch 6/25\n",
            "224/224 [==============================] - 3s 14ms/step - loss: 1.4736 - accuracy: 0.4282 - val_loss: 1.4504 - val_accuracy: 0.4358\n",
            "Epoch 7/25\n",
            "224/224 [==============================] - 3s 14ms/step - loss: 1.4155 - accuracy: 0.4541 - val_loss: 1.4186 - val_accuracy: 0.4548\n",
            "Epoch 8/25\n",
            "224/224 [==============================] - 3s 14ms/step - loss: 1.3572 - accuracy: 0.4785 - val_loss: 1.3453 - val_accuracy: 0.4777\n",
            "Epoch 9/25\n",
            "224/224 [==============================] - 3s 14ms/step - loss: 1.3155 - accuracy: 0.4943 - val_loss: 1.3265 - val_accuracy: 0.4883\n",
            "Epoch 10/25\n",
            "224/224 [==============================] - 3s 14ms/step - loss: 1.2717 - accuracy: 0.5150 - val_loss: 1.3380 - val_accuracy: 0.4869\n",
            "Epoch 11/25\n",
            "224/224 [==============================] - 3s 14ms/step - loss: 1.2388 - accuracy: 0.5284 - val_loss: 1.2977 - val_accuracy: 0.4986\n",
            "Epoch 12/25\n",
            "224/224 [==============================] - 3s 14ms/step - loss: 1.2103 - accuracy: 0.5383 - val_loss: 1.2782 - val_accuracy: 0.5107\n",
            "Epoch 13/25\n",
            "224/224 [==============================] - 3s 14ms/step - loss: 1.1810 - accuracy: 0.5503 - val_loss: 1.2525 - val_accuracy: 0.5258\n",
            "Epoch 14/25\n",
            "224/224 [==============================] - 3s 14ms/step - loss: 1.1480 - accuracy: 0.5637 - val_loss: 1.2494 - val_accuracy: 0.5264\n",
            "Epoch 15/25\n",
            "224/224 [==============================] - 3s 14ms/step - loss: 1.1223 - accuracy: 0.5749 - val_loss: 1.2347 - val_accuracy: 0.5363\n",
            "Epoch 16/25\n",
            "224/224 [==============================] - 3s 14ms/step - loss: 1.0913 - accuracy: 0.5872 - val_loss: 1.2327 - val_accuracy: 0.5304\n",
            "Epoch 17/25\n",
            "224/224 [==============================] - 3s 14ms/step - loss: 1.0634 - accuracy: 0.5950 - val_loss: 1.2766 - val_accuracy: 0.5300\n",
            "Epoch 18/25\n",
            "224/224 [==============================] - 3s 14ms/step - loss: 1.0393 - accuracy: 0.6072 - val_loss: 1.2413 - val_accuracy: 0.5286\n",
            "Epoch 19/25\n",
            "224/224 [==============================] - 3s 14ms/step - loss: 1.0125 - accuracy: 0.6191 - val_loss: 1.2940 - val_accuracy: 0.5251\n",
            "Epoch 20/25\n",
            "224/224 [==============================] - 3s 14ms/step - loss: 0.9896 - accuracy: 0.6292 - val_loss: 1.2543 - val_accuracy: 0.5389\n",
            "Epoch 21/25\n",
            "224/224 [==============================] - 3s 14ms/step - loss: 0.9494 - accuracy: 0.6433 - val_loss: 1.2723 - val_accuracy: 0.5426\n",
            "Epoch 22/25\n",
            "224/224 [==============================] - 3s 14ms/step - loss: 0.9214 - accuracy: 0.6518 - val_loss: 1.2863 - val_accuracy: 0.5416\n",
            "Epoch 23/25\n",
            "224/224 [==============================] - 3s 14ms/step - loss: 0.8981 - accuracy: 0.6660 - val_loss: 1.2771 - val_accuracy: 0.5479\n",
            "Epoch 24/25\n",
            "224/224 [==============================] - 3s 13ms/step - loss: 0.8642 - accuracy: 0.6773 - val_loss: 1.2946 - val_accuracy: 0.5398\n",
            "Epoch 25/25\n",
            "224/224 [==============================] - 3s 14ms/step - loss: 0.8261 - accuracy: 0.6916 - val_loss: 1.3093 - val_accuracy: 0.5477\n"
          ],
          "name": "stdout"
        }
      ]
    },
    {
      "cell_type": "markdown",
      "metadata": {
        "id": "SLxTcprUqJaq"
      },
      "source": [
        "# TODO: Plot Training and Validation Graphs\n",
        "\n",
        "In the cell below, plot the training and validation accuracy/loss graphs."
      ]
    },
    {
      "cell_type": "code",
      "metadata": {
        "id": "d28dhbFpr98b",
        "colab": {
          "base_uri": "https://localhost:8080/",
          "height": 893
        },
        "outputId": "29f151a9-56be-45c2-afce-b8c9d594170b"
      },
      "source": [
        "# plot the evolution of Loss and Acuracy on the train and validation sets\n",
        "\n",
        "import matplotlib.pyplot as plt\n",
        "\n",
        "plt.figure(figsize=(20,10))\n",
        "plt.subplot(1, 2, 1)\n",
        "plt.suptitle('Optimizer : Adam', fontsize=10)\n",
        "plt.ylabel('Loss', fontsize=16)\n",
        "plt.plot(history.history['loss'], label='Training Loss')\n",
        "plt.plot(history.history['val_loss'], label='Validation Loss')\n",
        "plt.legend(loc='upper right')\n",
        "\n",
        "plt.subplot(1, 2, 2)\n",
        "plt.ylabel('Accuracy', fontsize=16)\n",
        "plt.plot(history.history['acc'], label='Training Accuracy')\n",
        "plt.plot(history.history['val_acc'], label='Validation Accuracy')\n",
        "plt.legend(loc='lower right')\n",
        "plt.show()\n"
      ],
      "execution_count": null,
      "outputs": [
        {
          "output_type": "error",
          "ename": "KeyError",
          "evalue": "ignored",
          "traceback": [
            "\u001b[0;31m---------------------------------------------------------------------------\u001b[0m",
            "\u001b[0;31mKeyError\u001b[0m                                  Traceback (most recent call last)",
            "\u001b[0;32m<ipython-input-41-485bdf2952b3>\u001b[0m in \u001b[0;36m<module>\u001b[0;34m()\u001b[0m\n\u001b[1;32m     12\u001b[0m \u001b[0mplt\u001b[0m\u001b[0;34m.\u001b[0m\u001b[0msubplot\u001b[0m\u001b[0;34m(\u001b[0m\u001b[0;36m1\u001b[0m\u001b[0;34m,\u001b[0m \u001b[0;36m2\u001b[0m\u001b[0;34m,\u001b[0m \u001b[0;36m2\u001b[0m\u001b[0;34m)\u001b[0m\u001b[0;34m\u001b[0m\u001b[0;34m\u001b[0m\u001b[0m\n\u001b[1;32m     13\u001b[0m \u001b[0mplt\u001b[0m\u001b[0;34m.\u001b[0m\u001b[0mylabel\u001b[0m\u001b[0;34m(\u001b[0m\u001b[0;34m'Accuracy'\u001b[0m\u001b[0;34m,\u001b[0m \u001b[0mfontsize\u001b[0m\u001b[0;34m=\u001b[0m\u001b[0;36m16\u001b[0m\u001b[0;34m)\u001b[0m\u001b[0;34m\u001b[0m\u001b[0;34m\u001b[0m\u001b[0m\n\u001b[0;32m---> 14\u001b[0;31m \u001b[0mplt\u001b[0m\u001b[0;34m.\u001b[0m\u001b[0mplot\u001b[0m\u001b[0;34m(\u001b[0m\u001b[0mhistory\u001b[0m\u001b[0;34m.\u001b[0m\u001b[0mhistory\u001b[0m\u001b[0;34m[\u001b[0m\u001b[0;34m'acc'\u001b[0m\u001b[0;34m]\u001b[0m\u001b[0;34m,\u001b[0m \u001b[0mlabel\u001b[0m\u001b[0;34m=\u001b[0m\u001b[0;34m'Training Accuracy'\u001b[0m\u001b[0;34m)\u001b[0m\u001b[0;34m\u001b[0m\u001b[0;34m\u001b[0m\u001b[0m\n\u001b[0m\u001b[1;32m     15\u001b[0m \u001b[0mplt\u001b[0m\u001b[0;34m.\u001b[0m\u001b[0mplot\u001b[0m\u001b[0;34m(\u001b[0m\u001b[0mhistory\u001b[0m\u001b[0;34m.\u001b[0m\u001b[0mhistory\u001b[0m\u001b[0;34m[\u001b[0m\u001b[0;34m'val_acc'\u001b[0m\u001b[0;34m]\u001b[0m\u001b[0;34m,\u001b[0m \u001b[0mlabel\u001b[0m\u001b[0;34m=\u001b[0m\u001b[0;34m'Validation Accuracy'\u001b[0m\u001b[0;34m)\u001b[0m\u001b[0;34m\u001b[0m\u001b[0;34m\u001b[0m\u001b[0m\n\u001b[1;32m     16\u001b[0m \u001b[0mplt\u001b[0m\u001b[0;34m.\u001b[0m\u001b[0mlegend\u001b[0m\u001b[0;34m(\u001b[0m\u001b[0mloc\u001b[0m\u001b[0;34m=\u001b[0m\u001b[0;34m'lower right'\u001b[0m\u001b[0;34m)\u001b[0m\u001b[0;34m\u001b[0m\u001b[0;34m\u001b[0m\u001b[0m\n",
            "\u001b[0;31mKeyError\u001b[0m: 'acc'"
          ]
        },
        {
          "output_type": "display_data",
          "data": {
            "image/png": "[encoded data removed]",
            "text/plain": [
              "<Figure size 1440x720 with 2 Axes>"
            ]
          },
          "metadata": {
            "tags": []
          }
        }
      ]
    },
    {
      "cell_type": "markdown",
      "metadata": {
        "id": "5zmoDisGvNye"
      },
      "source": [
        "What is a bit curious here is that validation performance is better than training performance, right from the start to the end of execution.\n",
        "\n",
        "One reason for this is that validation performance is measured at the end of the epoch, but training performance is the average values across the epoch.\n",
        "\n",
        "The bigger reason though is that we're reusing a large part of MobileNet which is already trained on Flower images. \n",
        "\n",
        "For both mobilenet and inception, after 1 epoch, divergence happens"
      ]
    },
    {
      "cell_type": "markdown",
      "metadata": {
        "id": "kb__ZN8uFn-D"
      },
      "source": [
        "# TODO: Check Predictions\n",
        "\n",
        "In the cell below get the label names from the `dataset info` and convert them into a NumPy array. Print the array to make sure you have the correct label names."
      ]
    },
    {
      "cell_type": "code",
      "metadata": {
        "id": "W_Zvg2i0fzJu"
      },
      "source": [
        "# print(dataset_info.compute_dynamic_properties)\n",
        "\n",
        "# the following line makes a list class_names, but list cannot be accessed\n",
        "# via index, so it is better we convert it to numpy array in next line\n",
        "class_names = dataset_info.features['label'].names\n",
        "class_names = np.array(class_names)\n",
        "class_names"
      ],
      "execution_count": null,
      "outputs": []
    },
    {
      "cell_type": "markdown",
      "metadata": {
        "id": "4Olg6MsNGJTL"
      },
      "source": [
        "### TODO: Create an Image Batch and Make Predictions\n",
        "\n",
        "In the cell below, use the `next()` function to create an `image_batch` and its corresponding `label_batch`. Convert both the `image_batch` and `label_batch` to numpy arrays using the `.numpy()` method. Then use the `.predict()` method to run the image batch through your model and make predictions. Then use the `np.argmax()` function to get the indices of the best prediction for each image. Finally convert the indices of the best predictions to class names."
      ]
    },
    {
      "cell_type": "code",
      "metadata": {
        "id": "fCLVCpEjJ_VP"
      },
      "source": [
        "# next() function to manually iterate through all the items of an iterator\n",
        "# the following line will take only first entry of train_batches\n",
        "# since the batch contains 32 entries, it will print only first 32 entries\n",
        "image_batch, label_batch = next(iter(train_batches))\n",
        "image_batch = image_batch.numpy()\n",
        "label_batch = label_batch.numpy()\n",
        "\n",
        "predicted_batch = model.predict(image_batch)  # returns numpy arrays of prediction\n",
        "# predicted_batch = tf.squeeze(predicted_batch).numpy()\n",
        "\n",
        "predicted_ids = np.argmax(predicted_batch, axis=-1)\n",
        "# predicted_ids\n",
        "# if class_names is a list, it cannot be accassed via index\n",
        "# so better to convert class_names into a numpy array before\n",
        "predicted_class_names = class_names[predicted_ids]\n",
        "predicted_class_names\n"
      ],
      "execution_count": null,
      "outputs": []
    },
    {
      "cell_type": "markdown",
      "metadata": {
        "id": "CkGbZxl9GZs-"
      },
      "source": [
        "### TODO: Print True Labels and Predicted Indices\n",
        "\n",
        "In the cell below, print the true labels and the indices of predicted labels."
      ]
    },
    {
      "cell_type": "code",
      "metadata": {
        "id": "nL9IhOmGI5dJ"
      },
      "source": [
        "print()"
      ],
      "execution_count": null,
      "outputs": []
    },
    {
      "cell_type": "markdown",
      "metadata": {
        "id": "gJDyzEfYuFcW"
      },
      "source": [
        "# Plot Model Predictions"
      ]
    },
    {
      "cell_type": "code",
      "metadata": {
        "id": "wC_AYRJU9NQe"
      },
      "source": [
        "plt.figure(figsize=(10,9))\n",
        "for n in range(30):\n",
        "  plt.subplot(6,5,n+1)\n",
        "  plt.subplots_adjust(hspace = 0.3)\n",
        "  plt.imshow(image_batch[n])\n",
        "  color = \"blue\" if predicted_ids[n] == label_batch[n] else \"red\"\n",
        "  plt.title(predicted_class_names[n].title(), color=color)\n",
        "  plt.axis('off')\n",
        "_ = plt.suptitle(\"Model predictions (blue: correct, red: incorrect)\")"
      ],
      "execution_count": null,
      "outputs": []
    }
  ]
}